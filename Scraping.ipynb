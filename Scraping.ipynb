{
 "cells": [
  {
   "cell_type": "code",
   "execution_count": 1,
   "id": "5b620524",
   "metadata": {},
   "outputs": [],
   "source": [
    "from bs4 import BeautifulSoup\n",
    "from urllib.request import urlopen\n",
    "import requests\n",
    "import pandas as pd\n",
    "import csv"
   ]
  },
  {
   "cell_type": "code",
   "execution_count": 2,
   "id": "96081a20",
   "metadata": {},
   "outputs": [],
   "source": [
    "\n",
    "request_page = urlopen(\"https://www.kiplinger.com/investing/stocks\")\n",
    "page_html = request_page.read()\n",
    "request_page.close()\n",
    "html_soup = BeautifulSoup(page_html, 'html.parser')\n",
    "kipling_items = html_soup.find_all('div', data-page = '1')\n",
    "\n",
    "\n",
    "\n",
    "\n",
    "\n"
   ]
  },
  {
   "cell_type": "code",
   "execution_count": 5,
   "id": "3740edc9",
   "metadata": {
    "scrolled": true
   },
   "outputs": [],
   "source": [
    "contentdf = []\n",
    "datedf = []\n",
    "titledf = []\n",
    "linkdf = []\n",
    "catdf = []\n",
    "\n",
    "for stock in kipling_items:\n",
    "   \n",
    "        content = stock.find('div', class_ = \"polaris__article-card--excerpt\").text\n",
    "        date = stock.find('div', class_ = \"polaris__article-card--date -bottom\").text\n",
    "        if stock.find('h2') is not None:\n",
    "            title = stock.find('h2').text\n",
    "        else:\n",
    "            continue\n",
    "        linkf = stock.find('a', class_ ='polaris__link polaris__article-card--link')\n",
    "        link = linkf.get('href')\n",
    "        cat = stock.find('div', class_ = \"polaris__article-card--meta\").text\n",
    "        contentdf.append(str(content))\n",
    "        datedf.append(str(date))\n",
    "        titledf.append(str(title))\n",
    "        catdf.append(cat)\n",
    "        linkdf.append(\"https://www.kiplinger.com\" + link)\n",
    "\n",
    "data = {\n",
    "    'Title': titledf,\n",
    "    'Category' : catdf,\n",
    "    'Content': contentdf,\n",
    "    'Date': datedf,\n",
    "    'Link' : linkdf\n",
    "}     \n",
    "df = pd.DataFrame(data)\n",
    "df.to_csv(r'C:\\Users\\Vinee\\OneDrive\\Documents\\Internship\\WebScraping.csv')\n",
    "\n",
    "\n",
    "        \n",
    "        \n",
    "        \n",
    "        \n",
    "        \n",
    "\n",
    "\n",
    "        \n",
    "\n",
    "\n",
    "        "
   ]
  },
  {
   "cell_type": "code",
   "execution_count": null,
   "id": "73480aaa",
   "metadata": {},
   "outputs": [],
   "source": []
  },
  {
   "cell_type": "code",
   "execution_count": null,
   "id": "1a2510c4",
   "metadata": {},
   "outputs": [],
   "source": []
  },
  {
   "cell_type": "code",
   "execution_count": null,
   "id": "c89d5920",
   "metadata": {},
   "outputs": [],
   "source": []
  }
 ],
 "metadata": {
  "kernelspec": {
   "display_name": "Python 3",
   "language": "python",
   "name": "python3"
  },
  "language_info": {
   "codemirror_mode": {
    "name": "ipython",
    "version": 3
   },
   "file_extension": ".py",
   "mimetype": "text/x-python",
   "name": "python",
   "nbconvert_exporter": "python",
   "pygments_lexer": "ipython3",
   "version": "3.8.8"
  }
 },
 "nbformat": 4,
 "nbformat_minor": 5
}
